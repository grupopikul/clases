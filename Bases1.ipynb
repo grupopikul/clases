{
 "cells": [
  {
   "cell_type": "markdown",
   "id": "95f30332-8060-4929-9598-2278e848f84d",
   "metadata": {
    "editable": true,
    "slideshow": {
     "slide_type": ""
    },
    "tags": []
   },
   "source": [
    "# Los Bases de Python\n",
    "\n",
    "Nota: Andrew- habla un poco de inglés vs español en programación"
   ]
  },
  {
   "cell_type": "markdown",
   "id": "a146a278-e9b4-4246-83dc-cb6062767259",
   "metadata": {
    "editable": true,
    "slideshow": {
     "slide_type": ""
    },
    "tags": []
   },
   "source": [
    "#### Qué es un cuaderno (bloc) de jupyter?\n",
    "\n",
    "Esto es. Es un documento mezclado de còdigo y texto. Se usa para hacer informes, presentaciones educativas, etc.\n",
    "\n",
    "Cada bloque de texto o código se llama una celda.\n",
    "\n",
    "En las celdas, se presiona `ctrl + intro` para ejucatar el código y ver la salida.\n",
    "\n",
    "En una celda de *markdown* (de marcado, inglés), o texto, se presiona `ctrl + intro` para presentar el texto en una forma arreglada (y bonita).\n",
    "***"
   ]
  },
  {
   "cell_type": "markdown",
   "id": "d1598948-7704-4fe4-9ab0-c6276287930a",
   "metadata": {
    "editable": true,
    "slideshow": {
     "slide_type": ""
    },
    "tags": []
   },
   "source": [
    "## Juegen un poco\n",
    "\n",
    "Abran la consola (la cual es diferente que un cuaderno), y prueben escribir algo así:\n",
    "\n",
    "\n",
    "```python\n",
    "3 + 3\n",
    "3 + 3 * 2\n",
    "(3 + 3) * 2\n",
    "5\n",
    "\"Hola\"\n",
    "\"Hola\" + \" \" + \"Amigos!\"\n",
    "\"Hola\" + 2\n",
    "```\n",
    "\n",
    "**PONGANLO EN LA CONSOLA!**\n",
    "\n",
    "Se dice que la \"expresión\" \"evaláa\" (calcula) como un \"valor\" (o resultado).\n",
    "\n",
    "El código tiene instrucciones, como `+` y \"valores\" como `3`."
   ]
  },
  {
   "cell_type": "markdown",
   "id": "1f957ab7-20fb-487a-9507-a4a212f3bdef",
   "metadata": {},
   "source": [
    "## Las Variables\n",
    "\n",
    "Se puede guardar valores con nombres, así:\n",
    "\n",
    "```python\n",
    "x = 5\n",
    "altura = 10\n",
    "saludo = \"hola\" # cuidense las citaciónes\n",
    "```\n",
    "\n",
    "El lado izquierdo es la variable, arriba hay tres: `x`, `altura`, `saludo`. \n",
    "\n",
    "El `=` en este caso se llama el \"operador de asignación\", y dice a la computadora guardar el valor por el lado derecho adentro la variable.\n",
    "\n",
    "Ya se puede aceder el valor con la variable:\n",
    "\n",
    "```python\n",
    "x + 5 # 10\n",
    "altura + x # 15\n",
    "saludo + \" amigos\" # hello friends\n",
    "```\n",
    "\n",
    "También se puede cambiar el valor de cualquier variable:\n",
    "\n",
    "```python\n",
    "x = 5\n",
    "x + 2\n",
    "x = 6\n",
    "x + 2\n",
    "x = x * x * 5 + 2\n",
    "x\n",
    "```\n",
    "\n",
    "Se dice que la variable se pone o se define.\n",
    "\n",
    "**PONGANLO EN LA CONSOLA!**\n",
    "***"
   ]
  },
  {
   "cell_type": "markdown",
   "id": "97f1a3da-8413-45e0-9877-f72a6265d0de",
   "metadata": {
    "editable": true,
    "slideshow": {
     "slide_type": ""
    },
    "tags": []
   },
   "source": [
    "## Tipos\n",
    "\n",
    "Valores se puede ser tipos diferentes:\n",
    "\n",
    "* números\n",
    "* cuerdas (en: strings) (texto)\n",
    "* booleans (booleano, verdad o falso)\n",
    "* None (nada) (especial)\n",
    "\n",
    "O \"definido por el usario\".\n",
    "\n",
    "#### Experimenten con tipos distintos y también con los signos `+` y `-`.\n",
    "**PONGANLO EN LA CONSOLA!**\n",
    "***"
   ]
  },
  {
   "cell_type": "markdown",
   "id": "db67b6c7-f98f-4b24-9336-62f9e780425e",
   "metadata": {},
   "source": [
    "## Funciones\n",
    "\n",
    "### Como se usan\n",
    "\n",
    "```python\n",
    "pow(3, 2) # pow(er) = elevada a la potencia\n",
    "pow(5, 7)\n",
    "```\n",
    "Ven el nombre (pow), los ingresos (3, 2), y la salida (a lo que se evaluá, o devuelve).\n",
    "\n",
    "Funciones siempre usan los paréntesis para indicarse que son los ingresos, incloso si no tiene ingresos: `sys.exit()` (exit es salir)\n",
    "\n",
    "#### Built-Ins (Incorporados)\n",
    "```python\n",
    "    display(\"texto\") # mostrar(\"texto\")\n",
    "    print(\"texto\") # imprimir(\"texto\") -- la historia\n",
    "```\n",
    "\n",
    "**PONGANLO EN LA CONSOLA!**\n",
    "***"
   ]
  },
  {
   "cell_type": "markdown",
   "id": "daecb8c9-e768-4940-b436-20600e43e8a4",
   "metadata": {},
   "source": [
    "### Crear funcionas propias:\n",
    "\n",
    "**Preueben a modificar el código abajo para ver que pasará**"
   ]
  },
  {
   "cell_type": "code",
   "execution_count": null,
   "id": "f848e6ba-cda7-422f-b85e-0b950a03ada6",
   "metadata": {
    "editable": true,
    "slideshow": {
     "slide_type": ""
    },
    "tags": []
   },
   "outputs": [],
   "source": [
    "### Se puede escribir y ejecutar código acá \n",
    "\n",
    "def hola_mundo():\n",
    "    display(\"Hola Mundo\")\n",
    "\n",
    "# Intenten modificar el código \n",
    "\n",
    "def hola_amigo(nombre_amigo):\n",
    "    display(\"Hola \" + nombre_amigo)\n",
    "\n",
    "hola_mundo()\n",
    "hola_amigo(\"Andrew\")"
   ]
  },
  {
   "cell_type": "markdown",
   "id": "a045f83f-9b6a-4d3f-b5cd-a3ca2eaa2ca3",
   "metadata": {
    "editable": true,
    "slideshow": {
     "slide_type": ""
    },
    "tags": []
   },
   "source": [
    "### Ejemplo Más Complejo de Funciones\n",
    "\n",
    "A veces queremos reusar secciones de código, pero no es tan conviniente reescribir todo.\n",
    "\n",
    "Se acordan la fórmula cuadrática?\n",
    "\n",
    "Resolver para $x$:\n",
    "$$\n",
    "0 = 1x^2 + 5x + 7\n",
    "$$\n",
    "Hagamos la fórmula cuadrática:\n",
    "$$\n",
    "0 = ax^2 + bx + c\n",
    "$$\n",
    "$$\n",
    "x = \\frac{-b \\pm\\sqrt{b^2 - 4ac}}{2a}\n",
    "$$\n",
    "\n",
    "Ejemplo:\n",
    "```python\n",
    "a = 1\n",
    "b = 5\n",
    "c = 7\n",
    "solución = ( -b + b*b - 4 * a * c ) / (2 * a)\n",
    "```\n",
    "\n",
    "Y si se quiere calcular otra cuadrátrica, se escribe:\n",
    "\n",
    "```python\n",
    "a = 1\n",
    "b = 7\n",
    "c = 2\n",
    "solución = ( -b + b*b - 4 * a * c ) / (2 * a)\n",
    "```\n",
    "\n",
    "**Pero también podemos \"definir\" una \"función\":**\n",
    "\n",
    "```python\n",
    "def cuadrátic(a, b, c): # el peligro con tildes\n",
    "    numerador = -b + (b*b - (4 * a * c))\n",
    "    denominador = 2*a\n",
    "    return numerador/denominador\n",
    "\n",
    "solución1 = cuadrátic(1, 5, 7)\n",
    "solución2 = cuadrátic(1, 7, 2) # Más facil así\n",
    "```\n",
    "\n",
    "#### Estructura Básica/Gramática:\n",
    "\n",
    "```python\n",
    "# No es una funciona valida!\n",
    "def Nombre(ingreso1, ingreso2, ingreso3): # La firma\n",
    "    # Haga más cosas!\n",
    "    return valor_a_la_que_evalúa\n",
    "```\n",
    "\n",
    "* nombre\n",
    "* parámetro (ingresos)\n",
    "* cuerpo (bloque de código) \n",
    "* return (devolución o devolver) (la que evalúa, no es necesario, pero siempre implicito con None)\n",
    "\n",
    "#### Ejercicio: Hagan una función para calcular el cubo"
   ]
  },
  {
   "cell_type": "code",
   "execution_count": null,
   "id": "1ccf79a9-ac06-4979-89fb-ea89e63b3ad8",
   "metadata": {},
   "outputs": [],
   "source": [
    "### El código acá"
   ]
  },
  {
   "cell_type": "markdown",
   "id": "a3e46721-92a0-4a81-9fd7-ee3d0c1b077e",
   "metadata": {
    "editable": true,
    "slideshow": {
     "slide_type": ""
    },
    "tags": []
   },
   "source": [
    "#### Alcance (Scope)\n",
    "\n",
    "Los ingresos crean variables que son validas solamente en el bloque de la función (donde se ve la indentación). Se llama su alcance.\n",
    "\n",
    "Todas las variables que se crean en este bloque se pueden acceder adentro la función!\n",
    "\n",
    "```python\n",
    "\n",
    "def prueba(x):\n",
    "    return 0\n",
    "y = prueba(2)\n",
    "z = x + y # no es valida\n",
    "\n",
    "def prueba2():\n",
    "    x = 5\n",
    "    return 0\n",
    "y = prueba2()\n",
    "z = x + y # ni es valida\n",
    "\n",
    "x = 5\n",
    "def prueba3(y)\n",
    "    return x + y\n",
    "    \n",
    "z = prueba3(2) # funciona\n",
    "```\n",
    "***"
   ]
  },
  {
   "cell_type": "markdown",
   "id": "606a6948-d235-479d-8f99-c13190779c45",
   "metadata": {},
   "source": [
    "### Nota sobre cuadernos\n",
    "\n",
    "Para mostrar algo, se debe usar `print()` o `display()`.\n",
    "\n",
    "No obstante, cuadernos a menudo muestran la salida de la ultima linea in the cell- pero no siempre. Es mejor usar explícitamente `display()`.\n",
    "***"
   ]
  },
  {
   "cell_type": "markdown",
   "id": "20c7010c-33c0-4f07-8389-9a42514ca845",
   "metadata": {
    "editable": true,
    "slideshow": {
     "slide_type": ""
    },
    "tags": []
   },
   "source": [
    "### Ejercicio: Creen una función:\n",
    "\n",
    "Haganlo en la celda abajo, no en la consola:\n",
    "\n",
    "Llamenlo \"sum\". Tomará dos ingresos. Mostrará los dos ingresos dados, y devolverá la suma.\n",
    "\n",
    "Pruebenla con:\n",
    "\n",
    "```python\n",
    "    sum(1, 2)\n",
    "    # Salida: 3\n",
    "    sum(1, 4) + sum(1, 2)\n",
    "    sum(1, sum(1, 1))\n",
    "```\n",
    "\n",
    "Cuando se entra algo así:\n",
    "\n",
    "```python\n",
    "sum(sum(1, 2) + sum(2, 4), sum(1, 1))\n",
    "```\n",
    "\n",
    "La computadora lo calcula en este orden:\n",
    "\n",
    "```python\n",
    "sum(3 + sum(2, 4), sum(1, 1))\n",
    "sum(3 + 6, sum(1, 1))\n",
    "sum(9, sum(1, 1))\n",
    "sum(9, 2)\n",
    "11\n",
    "```"
   ]
  },
  {
   "cell_type": "code",
   "execution_count": 6,
   "id": "2cf8d841-4c91-4869-9d26-2fc0e3042fa8",
   "metadata": {},
   "outputs": [],
   "source": [
    "### Pongan el código acá"
   ]
  },
  {
   "cell_type": "markdown",
   "id": "8c648fa2-27c4-4980-a4e3-ee652d37fe35",
   "metadata": {},
   "source": [
    "***\n",
    "## El condicional\n",
    "\n",
    "#### Operadores Condicionales:\n",
    "\n",
    "```python\n",
    "==\n",
    "!=\n",
    "<\n",
    "<=\n",
    ">\n",
    ">=\n",
    "```\n",
    "**juegen con estas en la consola, se evalúan!**\n",
    "\n",
    "#### if-elif-else\n",
    "\n",
    "##### de inglés y español\n",
    "*if = si  \n",
    "elif = else if = o si  \n",
    "else = else = o (sino)*\n",
    "\n",
    "\n",
    "```python\n",
    "if (condicional): # siempre se evalúa con condicional\n",
    "    # código\n",
    "elif (condicional): # solo se evalúa (con condicional) si no hubo algo satisfecho arriba\n",
    "    # código\n",
    "elif (condicional): #la misma regula!\n",
    "    # código\n",
    "else: # comodín # solo se ejecuta (y siempre se ejucata) si no hubo algo satisfech arriba-\n",
    "    # código\n",
    "```\n",
    "\n",
    "Cuando se usa una cadena de `if-elif-else`, evaluación detendrá al primer rama (linea) que \"satisface\" la condición (que es verdadera).\n",
    "\n",
    "También, se puede usar:\n",
    "\n",
    "```python\n",
    "and # y\n",
    "or # o\n",
    "```\n",
    "\n",
    "### Ejercicio: Si el ingreso es menos de o igual a cero, echará un error\n",
    "\n",
    "*Nota: echando o leventando errors*"
   ]
  },
  {
   "cell_type": "code",
   "execution_count": 4,
   "id": "81601164-03d6-49a9-98dc-1f92189e8b5c",
   "metadata": {},
   "outputs": [],
   "source": [
    "### Código Acá"
   ]
  },
  {
   "cell_type": "markdown",
   "id": "3dcf675a-36a1-463f-beee-a621ceaf7dcf",
   "metadata": {},
   "source": [
    "### Ejercicio: Agregen una marca para ignorar el error"
   ]
  },
  {
   "cell_type": "code",
   "execution_count": 5,
   "id": "a2ce2127-78b1-48eb-8a32-a9cac1b05a8c",
   "metadata": {},
   "outputs": [],
   "source": [
    "### Código Acá\n",
    "\n",
    "## pista: def funciòn(número, marca):"
   ]
  },
  {
   "cell_type": "markdown",
   "id": "551f3cca-6b89-44f8-a080-75ad6e32225d",
   "metadata": {},
   "source": [
    "***\n",
    "\n",
    "## Biblioteca (Library)\n",
    "\n",
    "Otros han escrito código que se puede usar en sus programas.\n",
    "\n",
    "Se llaman **bibliotecas** normalmente, pero en python se llaman paquetes (packages).\n",
    "\n",
    "### Biblioteca Estandar\n",
    "\n",
    "Si el paquete es parte de la biblioteca estandar, se lo puede \"importar\" de una:\n",
    "\n",
    "```python\n",
    "import math\n",
    "\n",
    "x = math.sqrt(4) # \"math.\" es un grupo de funciones matemáticas \n",
    "y = math.floor(10.2)\n",
    "z = math.log(10)\n",
    "```\n",
    "\n",
    "Todas las funciones del paquete \"math\" empiezan con `math.`\n",
    "\n",
    "Unas funciones son matemáticas pero no son parte de la biblioteca de `math`- python tiene funciones \"incorporadas\" que vienen con el lenguaje básico: por ejemplo:\n",
    "\n",
    "```python\n",
    "\n",
    "a = pow(2, 2)\n",
    "\n",
    "```\n",
    "Es una función de matemáticas pero no se tiene que `import math` ni poner `math.pow()`\n",
    "\n",
    "### Biblioteca de Tercero\n",
    "\n",
    "Si la bioblioteca es de tercero, se tiene que instalar.\n",
    "\n",
    "```jupyter\n",
    "%pip install nombre_de_paquete\n",
    "```\n",
    "\n",
    "Note: Esta cosa rara (con `%` primero) se llama un comando magio y no es python. Es una señal especial a la computadora para instalar, y solo funciona en jupyter.\n",
    "\n",
    "### Ejercicio: Mejorar La Cuadrática\n",
    "\n",
    "Mejoren la cuadrática para que:\n",
    "\n",
    "1. use `import math`\n",
    "2. use `math.sqrt()` para conseguir la respuesta correcta \n",
    "3. asegure que el argumento (ingres) `math.sqrt` no es negativo antes de ejecutarla\n",
    "4. asegure que el denominador no es 0 antes de ejecutarla"
   ]
  },
  {
   "cell_type": "code",
   "execution_count": null,
   "id": "2ca87aeb-9c2b-4e5c-9b46-5f8268228007",
   "metadata": {},
   "outputs": [],
   "source": [
    "### Código acá"
   ]
  },
  {
   "cell_type": "markdown",
   "id": "b2c3b68c-3033-43af-9bbd-ca64be59d792",
   "metadata": {},
   "source": [
    "***\n",
    "\n",
    "## Funciones Incorporadas\n",
    "\n",
    "```python\n",
    "display() # mostrar\n",
    "type() # tipo\n",
    "str() # cuerda\n",
    "len() # longitud\n",
    "```\n",
    "\n",
    "#### Ejercicio:\n",
    "\n",
    "Creen una función que solo toma un ingreso, y muestra su tipo, su longitud, y su valor todo en una linea."
   ]
  },
  {
   "cell_type": "code",
   "execution_count": 6,
   "id": "44c1e1fb-8326-4dfc-b754-770f91e5a158",
   "metadata": {},
   "outputs": [],
   "source": [
    "### Código"
   ]
  },
  {
   "cell_type": "markdown",
   "id": "3735c1d5-b092-4bee-9d8a-6ec6f89800d5",
   "metadata": {
    "editable": true,
    "slideshow": {
     "slide_type": ""
    },
    "tags": []
   },
   "source": [
    "***\n",
    "## Listas (list en inglés)\n",
    "\n",
    "Python tiene tipos de listas incorporadas:\n",
    "\n",
    "```python\n",
    "x = []\n",
    "y = [1, 2, 3, 4, 5, 6]\n",
    "```\n",
    "\n",
    "`x` es una lista vacía. `y` no es.\n",
    "\n",
    "### Funciones de Listas\n",
    "\n",
    "```python\n",
    "x[0]\n",
    "y[0]\n",
    "y[1]\n",
    "y.append('7')  # append = adjuntar\n",
    "# La gramàtica del punto es nuevo....\n",
    "\n",
    "y.remove(1) # remove = quitar el emento\n",
    "```\n",
    "\n",
    "**PONGANLO EN LA CONSOLA!**\n",
    "\n",
    "## Iterar\n",
    "\n",
    "\n",
    "A veces se necesita inspeccionar cada elemento en una lista: para lograrlo, hay herramientas se llaman **iteradores**:\n",
    "\n",
    "```python\n",
    "while # mientra\n",
    "for # para\n",
    "```\n",
    "\n",
    "### Bucles de For\n",
    "\n",
    "```python\n",
    "miLista = [1, 0, -1]\n",
    "for elemento in miLista:\n",
    "    if elemento > 0:\n",
    "        display(\"Más que 0!\")\n",
    "```\n",
    "\n",
    "Se puece ver que la cadena de `if-elif-else` tiene su propio bloque de código. Lo que hace el `for elemento in miLista` es ejecutar ese bloque para cada elemento en `miLista` y ponerlo en la variable `elemento`.\n",
    "\n",
    "Es igual a:\n",
    "\n",
    "```python\n",
    "miLista = [1, 0, -1]\n",
    "\n",
    "elemento = miLista[0]\n",
    "if elemento > 0:\n",
    "    display(\"Más que 0!\")\n",
    "    \n",
    "elemento = miLista[1]\n",
    "if elemento > 0:\n",
    "    display(\"Más que 0!\")\n",
    "    \n",
    "elemento = miLista[2]\n",
    "if elemento > 0:\n",
    "    display(\"Más que 0!\")\n",
    "```\n",
    "\n",
    "La variable `elemento` tiene un alcance del ciclo del bloque del `for`.\n",
    "\n",
    "#### Ejercicio: Creen un ciclo que imprime el tipo de cada elemento\n"
   ]
  },
  {
   "cell_type": "code",
   "execution_count": null,
   "id": "ad4d47da-1507-4954-bab6-3b32a77b35fa",
   "metadata": {},
   "outputs": [],
   "source": [
    "## Código Acá\n",
    "laLista = [\"uno\", 2, \"3\", 2*2]"
   ]
  },
  {
   "cell_type": "markdown",
   "id": "d58fd71a-9e46-40fb-ae58-e30fa4d92c22",
   "metadata": {},
   "source": [
    "### While Loops\n",
    "\n",
    "Relacionado con ciclos de `for`, ciclos de `while` son un poco diferente:\n",
    "\n",
    "\n",
    "```python\n",
    "\n",
    "miNúmero = 0\n",
    "while miNúmero < 10:\n",
    "    display(miNúmero)\n",
    "    myNumber += 1\n",
    "\n",
    "miLista = [1 ,4, 7, 8, 10, 0, -10, -20]\n",
    "# (este ejemplo hace lo mismo como arriba)\n",
    "índice = 0\n",
    "while índice < len(miLista):\n",
    "    elemento = miLista[índice]\n",
    "    if elemento > 0:\n",
    "        display(\"Más que 0\")\n",
    "    índice = índice + 1 # índice += 1 es un atajo para la misma cosa\n",
    "```\n",
    "\n",
    "## Range (rango)\n",
    "\n",
    "La función de `range()` genera una lista automaticamente:\n",
    "\n",
    "```python\n",
    "inicio = 0\n",
    "parada = 20\n",
    "paso = 2\n",
    "miRango = range(inicio, parada, paso)\n",
    "miLista = [0, 2, 4, 6, 8]\n",
    "# miLista funciona como [0, 2, 4, 6, 8, 10, 12, 14, 16, 18], pero los internos son diferentes\n",
    "\n",
    "display(miRango == miLista) # Falso\n",
    "i = 0\n",
    "while i < len(miRango):\n",
    "    dispay(miRango[i] == miLista[i]) # True\n",
    "    i += 1\n",
    "```\n",
    "\n",
    "## Notas de Eficaz\n",
    "\n",
    "Python no hace bucles rapido y hay muchos trucos molestos para hacerlo más rapido, de ningun vamos a hablar en el primer curso.\n",
    "\n",
    "### Ejercicio:\n",
    "\n",
    "En la celda abajo, ya hay una lista.\n",
    "\n",
    "Escriben un ciclo que cuenta el número de pares en la lista. No todos los elementos son números!\n",
    "\n",
    "Usen el símbolo `%`, que produce el resto, ie:\n",
    "\n",
    "```python\n",
    "2 % 1 == 1 # 1 divida 2 una vez y resta 1\n",
    "10 % 3 == 1 # 3 divida 10 tres veces y resta 1\n",
    "10 % 7 == 3 # 7 divida 10 una vezy resta 3\n",
    "4 % 1 == 0 # 1 divida 4 quatro veces y resta nada\n",
    "4 % 4 == 0 # 4 divida 4 una vez y resta nada\n",
    "```"
   ]
  },
  {
   "cell_type": "code",
   "execution_count": 36,
   "id": "ba02194b-418c-4469-8117-28c460583d12",
   "metadata": {},
   "outputs": [],
   "source": [
    "lista = [20, 30, 44, 82, \"hello\", None, 382, 23984, 12983, 9385, 9132480, 92384, 9384, 1293, 92834, 845, 961, 659]\n",
    "\n",
    "### Your code here"
   ]
  },
  {
   "cell_type": "code",
   "execution_count": null,
   "id": "9a8cd4f3-cf92-4204-9a88-b87ade578509",
   "metadata": {},
   "outputs": [],
   "source": [
    "# Por qué no funciona el código acá? Se puede arreglarlo?\n",
    "\n",
    "lista = [20, 30, 44, 82, \"hello\", None, 382, 23984, 12983, 9385, 9132480, 92384, 9384, 1293, 92834, 845, 961, 659]\n",
    "for elemento in lista:\n",
    "    if type(elemento) != int:\n",
    "        lista.remove(elemento)\n",
    "display(lista)\n"
   ]
  },
  {
   "cell_type": "markdown",
   "id": "58b2dc4e-98c7-4132-904d-df0b0fc0cc64",
   "metadata": {
    "editable": true,
    "slideshow": {
     "slide_type": ""
    },
    "tags": []
   },
   "source": [
    "***\n",
    "\n",
    "**advertencia: mucho más difícil**\n",
    "\n",
    "## Notación de Punto- Objetos y Clases\n",
    "\n",
    "```python\n",
    "math.sqrt(4)\n",
    "myList.append(4)\n",
    "```\n",
    "\n",
    "A veces tenemos que crear grupos de funciones y variables. Se imaginen que tenemos un programa sobre carros:\n",
    "\n",
    "```python\n",
    "* carro\n",
    "  * color\n",
    "  * marca\n",
    "  * modelo\n",
    "  * viajar() # a function to make the car go\n",
    "```\n",
    " \n",
    "En principio, todo es parte del carro. Es bueno que se vea asì en el carro.\n",
    "\n",
    "Imaginense:\n",
    "\n",
    "```python\n",
    "miCarro.color = \"rojo\"\n",
    "miCarro.marca = \"bugatti\"\n",
    "miCarro.modelo = \"veyron\"\n",
    "miCarro.viajar(10)\n",
    "tuCarro.color = \"verde\"\n",
    "tuCarro.marca = \"jeep\"\n",
    "```\n",
    "\n",
    "Un grupo de funciones y variabels se lamma una \"clase\" (en: class). `Carro` es una clase. También podemos definir sus funciones, las cuales se llaman metodos (methods), y las variables internas:\n",
    "\n",
    "**LA PARTE CONFUSA**"
   ]
  },
  {
   "cell_type": "code",
   "execution_count": null,
   "id": "d714713d-5cba-4eef-96f4-e727640c8740",
   "metadata": {},
   "outputs": [],
   "source": [
    "# Ejemplo\n",
    "\n",
    "class Carro:\n",
    "    def __init__(mismo):\n",
    "        mismo.color = \"rojo\"\n",
    "        mismo.modelo = \"veryon\"\n",
    "        mismo.distancia = 0\n",
    "    def acelerar(mismo, distancia):\n",
    "        mismo.distancia += distancia\n",
    "\n",
    "miCarro = Carro()\n",
    "display(miCarro.distancia)\n",
    "miCarro.acelerar(10)\n",
    "display(miCarro.distancia)"
   ]
  },
  {
   "cell_type": "markdown",
   "id": "a1e227c6-f2bf-4936-89a0-c9abecc7ded2",
   "metadata": {
    "editable": true,
    "slideshow": {
     "slide_type": ""
    },
    "tags": []
   },
   "source": [
    "```python\n",
    "class Carro:\n",
    "    def __init__(mismo, color, marca, modolo):\n",
    "        mismo.color = color    # instance variable unique to each instance\n",
    "        mismo.marca = make\n",
    "        mismo.modolo = model\n",
    "        mismo.distancia = 0\n",
    "    def acelerar(mismo, distancia):\n",
    "        mismo.distancia += distancia\n",
    "```\n",
    "\n",
    "#### Qué es `__init__`???\n",
    "\n",
    "Miren a le función de `__init__`. Es una **constructora**. Cuando se \"inicializar\" la clase (es decir, usarlo la primera vez), `__init__` se ejecuta. Miren:\n",
    "\n",
    "```python\n",
    "miCarro = Carro(\"rojo\", \"bugatti\", \"veyron\")\n",
    "```\n",
    "\n",
    "Observen que el primer ingreso, \"mismo\" es implicito. Todos los metodos tienen un primer ingreso implicito.\n",
    "\n",
    "Cuando se escribe `Carro(...`, se llama automatico `__init__`. Observen que `__init__` tiene cuatro ingreos, pero solo se dan 3. Es porque `self` (el ingreso primero) es automatico e implicito.\n",
    "\n",
    "#### Qué es `mismo`???\n",
    "\n",
    "Si quieres ponerse una variable que será parte de la clase, y será parte del alcance de la clase (no la función), hay que usar `mismo.`\n",
    "\n",
    "Aquí `Car` es la clase, y `miCarro` es el objecto- es la clase \"instanciado\".\n",
    "\n",
    "\n",
    "#### Ejercicio: Crear una Clase\n",
    "\n",
    "Creen una \"computador\"- una clase con variables:\n",
    "* cuerda (la cual será el tipo de sistema operativo)\n",
    "* booleano (la cual indicará si está conectado el internet a la computadora)\n",
    "\n",
    "y con funciones:\n",
    "* Conectarse con el internet (y **mostrará** éxito o fallo)\n",
    "* Arrancar (mostrará la plantilla de bienvendio, depende del sistema operativo)"
   ]
  },
  {
   "cell_type": "code",
   "execution_count": null,
   "id": "100807d3-1476-45fc-8158-a96583f6a1ab",
   "metadata": {},
   "outputs": [],
   "source": [
    "### La clase acá"
   ]
  },
  {
   "cell_type": "markdown",
   "id": "10517a98-4c84-4c04-be10-a5a38230f778",
   "metadata": {},
   "source": [
    "***\n",
    "\n",
    "## Numpy Arrays (Como colleciones, pronunciación en español: are)\n",
    "\n",
    "Más importante que listas- Numpy Arrays son lo que usa la gente. Las listas incorporadas de python se comportan raro- por ejemplo, el signo `+` es concatenar, no es sumar."
   ]
  },
  {
   "cell_type": "markdown",
   "id": "b5addb2d-f042-4c27-bd44-4bc2b6c73b9a",
   "metadata": {
    "slideshow": {
     "slide_type": ""
    },
    "tags": []
   },
   "source": [
    "Numpy arrays vienen de otro paquete: **numpy**\n",
    "\n",
    "```python\n",
    "%pip install numpy\n",
    "import numpy as np # as = como, es decir, \"np\" será nuestro apodo para numpy\n",
    "```\n",
    "\n",
    "**Array** (collecion) es la palabra normal para \"list\". Casi todos los lenguajes unas la palabra \"array\" en vez de \"list\", pero python quería usar una palabra más sencilla.\n",
    "\n",
    "Hay unas formas de crear una array de numpy:\n",
    "\n",
    "```python\n",
    "np.zeros(2) # ceros\n",
    "np.ones(2) # unos\n",
    "np.arange(2, 9, 2) # un rango\n",
    "np.linspace(1, 10, num=5) #espacio lineal\n",
    "```\n",
    "\n",
    "**Espera! Por que hay un signo igual en los argumentos?**"
   ]
  },
  {
   "cell_type": "markdown",
   "id": "d5f3d451-87a3-4ce7-ad34-6aa369249b70",
   "metadata": {
    "slideshow": {
     "slide_type": ""
    },
    "tags": []
   },
   "source": [
    "### Parámetros Nombrados y Posicionales\n",
    "```python\n",
    "def fun(x, y, z=2, **claves): # Ti?enes que agregar dict acá\n",
    "\n",
    "fun(y = 2, x = 0, r = 2, p = 3)\n",
    "```"
   ]
  },
  {
   "cell_type": "markdown",
   "id": "2953beca-11b9-4ed8-9c71-4409f441b1b6",
   "metadata": {},
   "source": [
    "### Qué es un diccionario?\n",
    "\n",
    "Son paracidos a listas, pero, no se usa orden y número, se usan nombres.\n",
    "\n",
    "```Python\n",
    "miDiccionario = {\"primero\": 1, \"manzana\": \"rojo\", \"verde\": \"color\"}\n",
    "miDiccionario[\"manzana\"] == \"rojo\"\n",
    "miDiccionario[\"nuevo\"] = \"aquí estoy\"\n",
    "```\n",
    "\n",
    "Diccionarios usan estes pares de \"claves\" y \"valores\"."
   ]
  },
  {
   "cell_type": "markdown",
   "id": "e48e40bc-d0e7-43ec-a342-09de5221b9d3",
   "metadata": {
    "slideshow": {
     "slide_type": ""
    },
    "tags": []
   },
   "source": [
    "### Regresamos a numpy\n",
    "\n",
    "Hay unas formas de crear una array de numpy, pero también es suficiente:"
   ]
  },
  {
   "cell_type": "code",
   "execution_count": null,
   "id": "6c75947c-174b-4544-8edb-178ab9248318",
   "metadata": {},
   "outputs": [],
   "source": [
    "### Un array con dos dimensiones!\n",
    "miArray = np.array([ [1, 2], [3, 4] ])\n",
    "display(miArray[0])\n",
    "display(miArray[1])\n",
    "display(miArray[0][0])"
   ]
  },
  {
   "cell_type": "markdown",
   "id": "f028afb1-7be1-46e4-90eb-b3deca2a8f89",
   "metadata": {},
   "source": [
    "Y también hay unas funciones utiles:\n",
    "\n",
    "```python\n",
    "\n",
    "np.sort(miArray) # Poner en orden\n",
    "np.concatenate( (myArray, [1, 2]) ) # Para unir arrays\n",
    "myArray.ndim # Contar dimensiones\n",
    "myArray.size # Contar todos los elementos\n",
    "myArray.shape # Medir los dimensiones\n",
    "\n",
    "```\n",
    "\n",
    "Observen que a veces se usa `np.función()` y a veces `miArray.variable`..."
   ]
  },
  {
   "cell_type": "markdown",
   "id": "1d4de949-03bd-4112-971a-13484ce10a9d",
   "metadata": {},
   "source": [
    "### Indexar Avanzado \n",
    "\n",
    "#### Slices (Rebanadas, o pedazos)\n",
    "\n",
    "```python\n",
    "pruebaArray = np.arange(0, 10, 1)\n",
    "pruebaArray[0:3]\n",
    "pruebaArray[3:]\n",
    "pruebaArray[2]\n",
    "pruebaArray[2, -2]\n",
    "```\n",
    "\n",
    "#### Condicionales\n",
    "\n",
    "```python\n",
    "pruebaArray[pruebaArray<5]\n",
    "pruebaArray[pruebaArray%2==0]\n",
    "```\n",
    "Hay más!\n",
    "\n",
    "### Ejercicio: Experimenta con `list` y `np.array` y con `* 2` y `* .5`"
   ]
  },
  {
   "cell_type": "code",
   "execution_count": null,
   "id": "020103df-b537-4df3-9f44-a7adc6c8ca9f",
   "metadata": {},
   "outputs": [],
   "source": [
    "### Código Acá"
   ]
  }
 ],
 "metadata": {
  "kernelspec": {
   "display_name": "Python 3 (ipykernel)",
   "language": "python",
   "name": "python3"
  },
  "language_info": {
   "codemirror_mode": {
    "name": "ipython",
    "version": 3
   },
   "file_extension": ".py",
   "mimetype": "text/x-python",
   "name": "python",
   "nbconvert_exporter": "python",
   "pygments_lexer": "ipython3",
   "version": "3.11.4"
  }
 },
 "nbformat": 4,
 "nbformat_minor": 5
}
